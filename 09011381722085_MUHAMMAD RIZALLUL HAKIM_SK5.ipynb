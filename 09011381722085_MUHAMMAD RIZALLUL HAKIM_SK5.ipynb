{
 "cells": [
  {
   "cell_type": "markdown",
   "metadata": {},
   "source": [
    "Prediksi Penjualan Gula dengan Fuzzy Logic \n",
    "===================="
   ]
  },
  {
   "cell_type": "markdown",
   "metadata": {},
   "source": [
    "<div class=\"alert alert-info\">\n",
    "\t<p>Nama : Muhammad Rizallul Hakim</p>\n",
    "\t<p>NIM  : 09011381722085</p>\n",
    "</div>"
   ]
  },
  {
   "cell_type": "markdown",
   "metadata": {},
   "source": [
    "Penjualan merupakan aspek penting dalam\n",
    "perusahaan yang memperngaruhi keuntungan perusahaan. Jumlah penjualan yang sesuai dengan\n",
    "permintaan toko dan stok kemas yang ada di gudang tentunya akan mencapai target pasar yang telah\n",
    "ditentukan dan menaikkan potensi keuntungan perusahaan. Akan tetapi, dalam kenyataannya perhitungan\n",
    "dalam penjualan selalu dilakukan dengan manual sehingga mempengaruhi kebijakan perusahaan dalam\n",
    "penjualan. Sehingga, dibutuhkan suatu sistem yang dapat memprediksi jumlah produksi barang sesuai\n",
    "dengan permintaan dan persediaan."
   ]
  },
  {
   "cell_type": "code",
   "execution_count": 1,
   "metadata": {},
   "outputs": [],
   "source": [
    "import numpy as np\n",
    "import skfuzzy as fuzz\n",
    "from skfuzzy import control as ctrl\n",
    "import matplotlib.pyplot as plt"
   ]
  },
  {
   "cell_type": "markdown",
   "metadata": {},
   "source": [
    "<div class=\"alert alert-warning\">\n",
    "  <h5>Fungsi program diatas :</h5>\n",
    "<ol>\n",
    "  <li>Memberikan deklarasi variabel np sebagai numpy.</li>\n",
    "  <ul>\n",
    "    <li>NumPy adalah modul untuk komputasi ilmiah dalam Python.</li>\n",
    "  </ul><br>\n",
    "  <li>Memberikan deklarasi variabel fuzz sebagai skfuzzy.</li>\n",
    "  <ul>\n",
    "    <li>Skfuzzy adalah Library kumpulan function fuzzy logic untuk bahasa Python.</li>\n",
    "  </ul><br>\n",
    "  <li>Memberikan deklarasi variabel ctrl sebagai fungsi control dari library skfuzzy.</li><br>\n",
    "  <li>memberikan deklarasi variabel plt sebagai matplotlib.pyplot.</li>\n",
    "  <ul>\n",
    "    <li>Matplotlib adalah library Python 2D yang dapat menghasilkan plot dengan kualitas tinggi dalam berbagai format dan dapat digunakan di banyak platform.</li>\n",
    "  </ul>\n",
    "</ol>\n",
    "</div>"
   ]
  },
  {
   "cell_type": "markdown",
   "metadata": {},
   "source": [
    "----"
   ]
  },
  {
   "cell_type": "markdown",
   "metadata": {},
   "source": [
    "<div class=\"alert alert-success\">\n",
    "<p>Input : Variabel Permintaan dibagi 3 yakni :</p>\n",
    "\t<ul>\n",
    "\t\t<li>Rendah</li>\n",
    "\t\t<li>Sedang</li>\n",
    "\t\t<li>Tinggi</li>\n",
    "\t</ul>\n",
    "<p>Variabel Stok dibagi 3 yakni :</p>\n",
    "\t<ul>\n",
    "\t\t<li>Rendah</li>\n",
    "\t\t<li>Sedang</li>\n",
    "\t\t<li>Tinggi</li>\n",
    "\t</ul>\n",
    "<p>Output : Variabel Penjualan dibagi 3 yakni :</p>\n",
    "\t<ul>\n",
    "\t\t<li>Turun</li>\n",
    "\t\t<li>Sedang</li>\n",
    "\t\t<li>Naik</li>\n",
    "\t</ul>\n",
    "</div>"
   ]
  },
  {
   "cell_type": "markdown",
   "metadata": {},
   "source": [
    "Jumlah Permintaan mempunyai rentang nilai dari 0 - 363725"
   ]
  },
  {
   "cell_type": "code",
   "execution_count": 2,
   "metadata": {},
   "outputs": [],
   "source": [
    "permintaan = ctrl.Antecedent(np.arange(0,363725,1000), 'permintaan')\n",
    "permintaan_x =np.arange(0,367253,1000) #ploting"
   ]
  },
  {
   "cell_type": "markdown",
   "metadata": {},
   "source": [
    "FUZZIFIKASI Jumlah Permintaan\n",
    "==\n",
    "Proses untuk mengubah variabel non numerik menjadi variabel non fuzzy (numerik) menjadi variabel fuzzy (linguistik)"
   ]
  },
  {
   "cell_type": "markdown",
   "metadata": {},
   "source": [
    "Untuk jumlah Permintaan, fungsi keanggotaan dibagi menjadi 3 bagian :\n",
    "$$ Banyaknya Permintaan $$\n",
    "$$ Rendah = 1 - 72475$$\n",
    "$$ Sedang = 1000 - 363725$$\n",
    "$$ Tinggi = 72475 - 363725$$"
   ]
  },
  {
   "cell_type": "markdown",
   "metadata": {},
   "source": [
    "\n",
    "Dengan fungsi keanggotaan Banyaknya permintaan\n",
    "\n",
    "\\begin{equation}\n",
    "  permintaan['rendah'] = \\mu Rendah(x)=\\begin{cases}\n",
    "    1, & \\text{$x\\leq1000$}.\\\\\n",
    "    (72475 - x)/(72475-1000) , & \\text{$1000 \\leq x \\leq 72475$}.\\\\\n",
    "    0, & \\text{$x\\geq 72475$}.\n",
    "  \\end{cases}\n",
    "  \\\\\n",
    "  permintaan['sedang'] = \\mu Sedang(x)=\\begin{cases}\n",
    "    0, & \\text{$x\\leq 1000$ atau $x\\geq363725$}.\\\\\n",
    "    (x - 1000)/(72475 - 1000) , & \\text{$1000 \\leq x \\leq 72475$}.\\\\\n",
    "    (363725 - x)/(363725 - 72475) , & \\text{$72475 \\leq x \\leq 363725$}.\\\\\n",
    "  \\end{cases}\n",
    "  \\\\\n",
    "    permintaan['tinggi'] = \\mu Tinggi(x)=\\begin{cases}\n",
    "    0, & \\text{$x\\leq 72475$}.\\\\\n",
    "    (x - 72475)/(363725 - 72475) , & \\text{$72475 \\leq x \\leq 363725$}.\\\\\n",
    "    1, & \\text{$x\\geq 363725$}.\n",
    "  \\end{cases}\n",
    "\\end{equation}"
   ]
  },
  {
   "cell_type": "code",
   "execution_count": 3,
   "metadata": {},
   "outputs": [],
   "source": [
    "permintaan['rendah']=fuzz.trapmf(permintaan.universe,[1,1,1000,72475])\n",
    "permintaan['sedang']=fuzz.trimf(permintaan.universe,[1000,72475,363725])\n",
    "permintaan['tinggi']=fuzz.trimf(permintaan.universe,[72475,363725,363725])"
   ]
  },
  {
   "cell_type": "markdown",
   "metadata": {},
   "source": [
    "PLOTING MEMBERSHIP JUMLAH PERMINTAAN\n",
    "===="
   ]
  },
  {
   "cell_type": "markdown",
   "metadata": {},
   "source": [
    "<div class=\"alert alert-success\">\n",
    "\t<p>Plotting fungsi keanggotaan $\\mu Rendah(x)$.</p>\n",
    "</div>"
   ]
  },
  {
   "cell_type": "markdown",
   "metadata": {},
   "source": [
    "Fungsi Keanggotaan PermintaanRendah memiliki rentang nilai 1 - 72475"
   ]
  },
  {
   "cell_type": "code",
   "execution_count": 43,
   "metadata": {
    "scrolled": true
   },
   "outputs": [
    {
     "data": {
      "text/plain": [
       "Text(0.5, 1.0, 'Permintaan Rendah')"
      ]
     },
     "execution_count": 43,
     "metadata": {},
     "output_type": "execute_result"
    },
    {
     "data": {
      "image/png": "[encoded data removed]",
      "text/plain": [
       "<Figure size 432x288 with 1 Axes>"
      ]
     },
     "metadata": {
      "needs_background": "light"
     },
     "output_type": "display_data"
    }
   ],
   "source": [
    "permintaan_rendah = fuzz.trapmf(permintaan_x,[1,1,1000,72475])\n",
    "fig, (ax0) = plt.subplots(nrows=1,figsize=(6,4))\n",
    "ax0.plot(permintaan_x,permintaan_rendah,'blue')\n",
    "ax0.set_title('Permintaan Rendah')"
   ]
  },
  {
   "cell_type": "markdown",
   "metadata": {},
   "source": [
    "<div class=\"alert alert-success\">\n",
    "\t<p>Plotting fungsi keanggotaan $\\mu Sedang(x)$.</p>\n",
    "</div>"
   ]
  },
  {
   "cell_type": "markdown",
   "metadata": {},
   "source": [
    "Fungsi Keanggotaan PermintaanSedang memiliki rentang nilai 1000 - 363725"
   ]
  },
  {
   "cell_type": "code",
   "execution_count": 47,
   "metadata": {},
   "outputs": [
    {
     "data": {
      "text/plain": [
       "Text(0.5, 1.0, 'Permintaan Sedang')"
      ]
     },
     "execution_count": 47,
     "metadata": {},
     "output_type": "execute_result"
    },
    {
     "data": {
      "image/png": "[encoded data removed]",
      "text/plain": [
       "<Figure size 432x288 with 1 Axes>"
      ]
     },
     "metadata": {
      "needs_background": "light"
     },
     "output_type": "display_data"
    }
   ],
   "source": [
    "permintaan_sedang = fuzz.trimf(permintaan_x,[1000,72475,363725])\n",
    "fig, (ax0) = plt.subplots(nrows=1,figsize=(6,4))\n",
    "ax0.plot(permintaan_x,permintaan_sedang,'orange')\n",
    "ax0.set_title('Permintaan Sedang')"
   ]
  },
  {
   "cell_type": "markdown",
   "metadata": {},
   "source": [
    "<div class=\"alert alert-success\">\n",
    "\t<p>Plotting fungsi keanggotaan $\\mu Tinggi(x)$.</p>\n",
    "</div>"
   ]
  },
  {
   "cell_type": "markdown",
   "metadata": {},
   "source": [
    "Fungsi Keanggotaan PermintaanTinggi memiliki rentang nilai 72475 - 363725"
   ]
  },
  {
   "cell_type": "code",
   "execution_count": 46,
   "metadata": {
    "scrolled": true
   },
   "outputs": [
    {
     "data": {
      "text/plain": [
       "Text(0.5, 1.0, 'Permintaan Tinggi')"
      ]
     },
     "execution_count": 46,
     "metadata": {},
     "output_type": "execute_result"
    },
    {
     "data": {
      "image/png": "[encoded data removed]",
      "text/plain": [
       "<Figure size 432x288 with 1 Axes>"
      ]
     },
     "metadata": {
      "needs_background": "light"
     },
     "output_type": "display_data"
    }
   ],
   "source": [
    "permintaan_tinggi = fuzz.trimf(permintaan_x,[72475,363725,363725])\n",
    "fig, (ax0) = plt.subplots(nrows=1,figsize=(6,4))\n",
    "ax0.plot(permintaan_x,permintaan_tinggi,'green')\n",
    "ax0.set_title('Permintaan Tinggi')"
   ]
  },
  {
   "cell_type": "markdown",
   "metadata": {},
   "source": [
    "<div class=\"alert alert-success\">\n",
    "\t<p>Plotting ke empat fungsi keanggotaan banyaknya permintaan.</p>\n",
    "</div>"
   ]
  },
  {
   "cell_type": "code",
   "execution_count": 7,
   "metadata": {
    "scrolled": false
   },
   "outputs": [
    {
     "name": "stderr",
     "output_type": "stream",
     "text": [
      "C:\\Users\\FX505DY\\Anaconda3\\lib\\site-packages\\skfuzzy\\control\\fuzzyvariable.py:122: UserWarning: Matplotlib is currently using module://ipykernel.pylab.backend_inline, which is a non-GUI backend, so cannot show the figure.\n",
      "  fig.show()\n"
     ]
    },
    {
     "data": {
      "image/png": "[encoded data removed]",
      "text/plain": [
       "<Figure size 432x288 with 1 Axes>"
      ]
     },
     "metadata": {
      "needs_background": "light"
     },
     "output_type": "display_data"
    }
   ],
   "source": [
    "permintaan.view()"
   ]
  },
  {
   "cell_type": "markdown",
   "metadata": {},
   "source": [
    "FUZZIFIKASI VARIABEL STOK\n",
    "====="
   ]
  },
  {
   "cell_type": "code",
   "execution_count": 48,
   "metadata": {},
   "outputs": [],
   "source": [
    "stok = ctrl.Antecedent(np.arange(0,899755,10000), 'stok')\n",
    "stok_x = np.arange(0,899755,1) #plotting"
   ]
  },
  {
   "cell_type": "markdown",
   "metadata": {},
   "source": [
    "Pada variabel Stok kemas, terbagi menjadi 3 buah yaitu: \n",
    "$$Rendah : 1 - 545805$$\n",
    "$$Sedang : 229000 - 899755$$\n",
    "$$Tinggi : 545805 - 899755$$"
   ]
  },
  {
   "cell_type": "markdown",
   "metadata": {},
   "source": [
    "\n",
    "Dengan fungsi keanggotaan Variabel Stok\n",
    "\n",
    "\\begin{equation}\n",
    "  stok['rendah'] = \\mu stokRendah(x)=\\begin{cases}\n",
    "    1, & \\text{$x\\leq229000$}.\\\\\n",
    "    \\left.(545805 - x) \\,  \\right/(545805 - 229000) , & \\text{$229000 \\leq x \\leq 545805$}.\\\\\n",
    "    0, & \\text{$x\\geq 545805$}.\n",
    "  \\end{cases}\n",
    "  \\\\\n",
    "    stok['sedang'] = \\mu stokSedang(x)=\\begin{cases}\n",
    "    0, & \\text{$x\\leq 229000$ atau $x\\geq899755$}.\\\\\n",
    "    \\left.(x - 229000)\\, \\right/(545805 - 229000) , & \\text{$229000 \\leq x \\leq 545805$}.\\\\\n",
    "    \\left.(899755 - x)\\, \\right/(899755 - 545805) , & \\text{$545805 \\leq x \\leq 899755$}.\\\\\n",
    "  \\end{cases}\n",
    "  \\\\\n",
    "  stok['tinggi'] = \\mu stokTinggi(x)=\\begin{cases}\n",
    "    0, & \\text{$x \\leq 545805$}.\\\\\n",
    "    \\left.(x - 545805) \\,  \\right/(750 - 545805) , & \\text{$545805 \\leq x \\leq 899755$}.\\\\\n",
    "    1, & \\text{$x\\geq 899755$}.\n",
    "  \\end{cases}\n",
    "\\end{equation}\n",
    "\n"
   ]
  },
  {
   "cell_type": "code",
   "execution_count": 50,
   "metadata": {},
   "outputs": [],
   "source": [
    "stok['turun']=fuzz.trapmf(stok.universe,[0,1,229000,545805])\n",
    "stok['sedang']=fuzz.trimf(stok.universe,[229000,545805,899755])\n",
    "stok['tinggi']=fuzz.trimf(stok.universe,[545805,899755,899755])"
   ]
  },
  {
   "cell_type": "markdown",
   "metadata": {},
   "source": [
    "Plotting membership function Stok\n",
    "==="
   ]
  },
  {
   "cell_type": "markdown",
   "metadata": {},
   "source": [
    "<div class=\"alert alert-success\">\n",
    "\t<p>Plot fungsi keanggotaan $\\mu stokRendah(x) $</p>\n",
    "</div>"
   ]
  },
  {
   "cell_type": "markdown",
   "metadata": {},
   "source": [
    "Fungsi Keanggotaan StokTurun memiliki rentang nilai 1 - 545805"
   ]
  },
  {
   "cell_type": "code",
   "execution_count": 55,
   "metadata": {},
   "outputs": [
    {
     "data": {
      "text/plain": [
       "Text(0.5, 1.0, 'Stok Rendah')"
      ]
     },
     "execution_count": 55,
     "metadata": {},
     "output_type": "execute_result"
    },
    {
     "data": {
      "image/png": "[encoded data removed]",
      "text/plain": [
       "<Figure size 288x288 with 1 Axes>"
      ]
     },
     "metadata": {
      "needs_background": "light"
     },
     "output_type": "display_data"
    }
   ],
   "source": [
    "stok_rendah = fuzz.trapmf(stok_x,[1,1,229000,545805])\n",
    "fig,(ax0) = plt.subplots(nrows=1,figsize=(4,4))\n",
    "ax0.plot(stok_x,stok_rendah,'blue')\n",
    "ax0.set_title('Stok Rendah')"
   ]
  },
  {
   "cell_type": "markdown",
   "metadata": {},
   "source": [
    "<div class=\"alert alert-success\">\n",
    "\t<p>Plot fungsi keanggotaan $\\mu stokSedang(x) $</p>\n",
    "</div>"
   ]
  },
  {
   "cell_type": "markdown",
   "metadata": {},
   "source": [
    "Fungsi Keanggotaan StokSedang memiliki rentang nilai 229000 - 899755"
   ]
  },
  {
   "cell_type": "code",
   "execution_count": 58,
   "metadata": {},
   "outputs": [
    {
     "data": {
      "text/plain": [
       "Text(0.5, 1.0, 'Stok Sedang')"
      ]
     },
     "execution_count": 58,
     "metadata": {},
     "output_type": "execute_result"
    },
    {
     "data": {
      "image/png": "[encoded data removed]",
      "text/plain": [
       "<Figure size 288x288 with 1 Axes>"
      ]
     },
     "metadata": {
      "needs_background": "light"
     },
     "output_type": "display_data"
    }
   ],
   "source": [
    "stok_sedang = fuzz.trimf(stok_x,[229000,545805,899755])\n",
    "fig,(ax0) = plt.subplots(nrows=1,figsize=(4,4))\n",
    "ax0.plot(stok_x,stok_sedang,'orange')\n",
    "ax0.set_title('Stok Sedang')"
   ]
  },
  {
   "cell_type": "markdown",
   "metadata": {},
   "source": [
    "<div class=\"alert alert-success\">\n",
    "\t<p>Plot fungsi keanggotaan $\\mu stokTinggi(x) $</p>\n",
    "</div>"
   ]
  },
  {
   "cell_type": "markdown",
   "metadata": {},
   "source": [
    "Fungsi Keanggotaan StokTinggi memiliki rentang nilai 545805 - 899755"
   ]
  },
  {
   "cell_type": "code",
   "execution_count": 60,
   "metadata": {},
   "outputs": [
    {
     "data": {
      "text/plain": [
       "Text(0.5, 1.0, 'Stok Tinggi')"
      ]
     },
     "execution_count": 60,
     "metadata": {},
     "output_type": "execute_result"
    },
    {
     "data": {
      "image/png": "[encoded data removed]",
      "text/plain": [
       "<Figure size 288x288 with 1 Axes>"
      ]
     },
     "metadata": {
      "needs_background": "light"
     },
     "output_type": "display_data"
    }
   ],
   "source": [
    "stok_tinggi = fuzz.trimf(stok_x,[545805,899755,899755])\n",
    "fig,(ax0) = plt.subplots(nrows=1,figsize=(4,4))\n",
    "ax0.plot(stok_x,stok_tinggi,'green')\n",
    "ax0.set_title('Stok Tinggi')"
   ]
  },
  {
   "cell_type": "markdown",
   "metadata": {},
   "source": [
    "<div class=\"alert alert-success\">\n",
    "\t<p>Plot ketiga fungsi keanggotaan Variabel Stok</p>\n",
    "</div>"
   ]
  },
  {
   "cell_type": "code",
   "execution_count": 61,
   "metadata": {
    "scrolled": false
   },
   "outputs": [
    {
     "data": {
      "image/png": "[encoded data removed]",
      "text/plain": [
       "<Figure size 432x288 with 1 Axes>"
      ]
     },
     "metadata": {
      "needs_background": "light"
     },
     "output_type": "display_data"
    }
   ],
   "source": [
    "stok.view()"
   ]
  },
  {
   "cell_type": "markdown",
   "metadata": {},
   "source": [
    "FUZZIFIKASI PENJUALAN\n",
    "==="
   ]
  },
  {
   "cell_type": "code",
   "execution_count": 62,
   "metadata": {},
   "outputs": [],
   "source": [
    "penjualan = ctrl.Consequent(np.arange(0,342865,1), 'penjualan')\n",
    "penjualan_x = np.arange(0,342865,1) #Plotting"
   ]
  },
  {
   "cell_type": "markdown",
   "metadata": {},
   "source": [
    "Variabel Penjualan memiliki rentang 0 - 342865 dibagi menjadi 3, yakni:\n",
    "$$Rendah : 1 - 106625$$\n",
    "$$Sedang : 5925 - 342865$$\n",
    "$$Naik : 106625 - 342865$$"
   ]
  },
  {
   "cell_type": "markdown",
   "metadata": {},
   "source": [
    "\n",
    "Dengan fungsi keanggotaan Penjualan\n",
    "\n",
    "\\begin{equation}\n",
    "  penjualan['rendah'] = \\mu penjualanRendah(x)=\\begin{cases}\n",
    "    1, & \\text{$x\\leq5925$}.\\\\\n",
    "    \\left.(106625 - x) \\,  \\right/(106625 - 5925) , & \\text{$5925 \\leq x \\leq 106625$}.\\\\\n",
    "    0, & \\text{$x\\geq 106625$}.\n",
    "  \\end{cases}\n",
    "  \\\\\n",
    "    penjualan['sedang'] = \\mu penjualanSedang(x)=\\begin{cases}\n",
    "    0, & \\text{$x\\leq 5925$ atau $x\\geq342865$}.\\\\\n",
    "    \\left.(x - 5925)\\, \\right/(106625 - 5925) , & \\text{$5925 \\leq x \\leq 106625$}.\\\\\n",
    "    \\left.(342865 - x)\\, \\right/(342865 - 106625) , & \\text{$106625 \\leq x \\leq 342865$}.\\\\\n",
    "  \\end{cases}\n",
    "  \\\\\n",
    "  tinggi['tinggi'] = \\mu penjualanTinggi(x)=\\begin{cases}\n",
    "    0, & \\text{$x \\leq 106625$}.\\\\\n",
    "    \\left.(x - 106625) \\,  \\right/(342685 - 106625) , & \\text{$106625 \\leq x \\leq 342685$}.\\\\\n",
    "    1, & \\text{$x\\geq 342685$}.\n",
    "  \\end{cases}\n",
    "\\end{equation}\n",
    "\n"
   ]
  },
  {
   "cell_type": "code",
   "execution_count": 63,
   "metadata": {},
   "outputs": [],
   "source": [
    "penjualan['turun']=fuzz.trapmf(penjualan.universe,[0,1,5925,106625])\n",
    "penjualan['sedang']=fuzz.trimf(penjualan.universe,[5925,106625,342865])\n",
    "penjualan['naik']=fuzz.trimf(penjualan.universe,[106625,342865,342865])"
   ]
  },
  {
   "cell_type": "markdown",
   "metadata": {},
   "source": [
    "Plotting fungsi keanggotaan Penjualan\n",
    "==="
   ]
  },
  {
   "cell_type": "markdown",
   "metadata": {},
   "source": [
    "<div class=\"alert alert-success\">\n",
    "\t<p>Plot fungsi keanggotaan $\\mu PenjualanRendah(x) $</p>\n",
    "</div>"
   ]
  },
  {
   "cell_type": "code",
   "execution_count": 64,
   "metadata": {},
   "outputs": [
    {
     "data": {
      "text/plain": [
       "Text(0.5, 1.0, 'Penjualan Rendah')"
      ]
     },
     "execution_count": 64,
     "metadata": {},
     "output_type": "execute_result"
    },
    {
     "data": {
      "image/png": "[encoded data removed]",
      "text/plain": [
       "<Figure size 432x288 with 1 Axes>"
      ]
     },
     "metadata": {
      "needs_background": "light"
     },
     "output_type": "display_data"
    }
   ],
   "source": [
    "penjualan_rendah = fuzz.trapmf(penjualan_x,[1,1,5925,106625])\n",
    "fig,(ax0) = plt.subplots(nrows=1,figsize=(6,4))\n",
    "ax0.plot(penjualan_x,penjualan_rendah,'blue')\n",
    "ax0.set_title('Penjualan Rendah')"
   ]
  },
  {
   "cell_type": "markdown",
   "metadata": {},
   "source": [
    "<div class=\"alert alert-success\">\n",
    "\t<p>Plot fungsi keanggotaan $\\mu PenjualanSedang(x) $</p>\n",
    "</div>"
   ]
  },
  {
   "cell_type": "code",
   "execution_count": 65,
   "metadata": {},
   "outputs": [
    {
     "data": {
      "text/plain": [
       "Text(0.5, 1.0, 'Penjualan Sedang')"
      ]
     },
     "execution_count": 65,
     "metadata": {},
     "output_type": "execute_result"
    },
    {
     "data": {
      "image/png": "[encoded data removed]",
      "text/plain": [
       "<Figure size 432x288 with 1 Axes>"
      ]
     },
     "metadata": {
      "needs_background": "light"
     },
     "output_type": "display_data"
    }
   ],
   "source": [
    "penjualan_sedang = fuzz.trimf(penjualan_x,[5925,106625,342865])\n",
    "fig,(ax0) = plt.subplots(nrows=1,figsize=(6,4))\n",
    "ax0.plot(penjualan_x,penjualan_sedang,'orange')\n",
    "ax0.set_title('Penjualan Sedang')"
   ]
  },
  {
   "cell_type": "markdown",
   "metadata": {},
   "source": [
    "<div class=\"alert alert-success\">\n",
    "\t<p>Plot fungsi keanggotaan $\\mu PenjualanNaik(x) $</p>\n",
    "</div>"
   ]
  },
  {
   "cell_type": "code",
   "execution_count": 66,
   "metadata": {},
   "outputs": [
    {
     "data": {
      "text/plain": [
       "Text(0.5, 1.0, 'Penjualan Naik')"
      ]
     },
     "execution_count": 66,
     "metadata": {},
     "output_type": "execute_result"
    },
    {
     "data": {
      "image/png": "[encoded data removed]",
      "text/plain": [
       "<Figure size 432x288 with 1 Axes>"
      ]
     },
     "metadata": {
      "needs_background": "light"
     },
     "output_type": "display_data"
    }
   ],
   "source": [
    "penjualan_Naik = fuzz.trimf(penjualan_x,[106625,342865,342865])\n",
    "fig,(ax0) = plt.subplots(nrows=1,figsize=(6,4))\n",
    "ax0.plot(penjualan_x,penjualan_Naik,'green')\n",
    "ax0.set_title('Penjualan Naik')"
   ]
  },
  {
   "cell_type": "markdown",
   "metadata": {},
   "source": [
    "<div class=\"alert alert-success\">\n",
    "\t<p>Plotting ketiga Fungsi Keanggotaan Penjualan</p>\n",
    "</div>"
   ]
  },
  {
   "cell_type": "code",
   "execution_count": 67,
   "metadata": {
    "scrolled": false
   },
   "outputs": [
    {
     "data": {
      "image/png": "[encoded data removed]",
      "text/plain": [
       "<Figure size 432x288 with 1 Axes>"
      ]
     },
     "metadata": {
      "needs_background": "light"
     },
     "output_type": "display_data"
    }
   ],
   "source": [
    "penjualan.view()"
   ]
  },
  {
   "cell_type": "markdown",
   "metadata": {},
   "source": [
    "# Inferencing\n",
    "Pada tahap inferencing, membuat aturan-aturan fuzzy yang dinyatakan dalam bentuk IF ... THEN ..."
   ]
  },
  {
   "cell_type": "markdown",
   "metadata": {},
   "source": [
    "Pada sistem ini berdasarkan jumlah fuzzifikasi dari variabel permintaan yang berjumlah 3 dan fuzzifikasi dari variabel stok yang berjumlah 3, maka rule yang dibuat berjumlah 3 x 3 = 9 rule"
   ]
  },
  {
   "cell_type": "markdown",
   "metadata": {},
   "source": [
    "<div class=\"alert alert-success\">\n",
    "\t<ol>\n",
    "\t\t<li>IF Permintaan RENDAH dan Stok TINGGI THEN Penjualan TURUN</li>\n",
    "\t\t<li>IF Permintaan RENDAH dan Stok SEDANG THEN Penjualan TURUN</li>\n",
    "\t\t<li>IF Permintaan RENDAH dan Stok RENDAH THEN Penjualan TURUN</li><br>\n",
    "\t\t<li>IF Permintaan SEDANG dan Stok TINGGI THEN Penjualan TURUN</li>\n",
    "\t\t<li>IF Permintaan SEDANG dan Stok SEDANG THEN Penjualan SEDANG</li>\n",
    "\t\t<li>IF Permintaan SEDANG dan Stok RENDAH THEN Penjualan NAIK</li><br>\n",
    "\t\t<li>IF Permintaan TINGGI dan Stok TINGGI THEN Penjualan NAIK</li>\n",
    "\t\t<li>IF Permintaan TINGGI dan Stok SEDANG THEN Penjualan NAIK</li>\n",
    "\t\t<li>IF Permintaan TINGGI dan Stok RENDAH THEN Penjualan NAIK</li>\n",
    "\t</ol>\n",
    "</div>"
   ]
  },
  {
   "cell_type": "code",
   "execution_count": 68,
   "metadata": {
    "scrolled": true
   },
   "outputs": [],
   "source": [
    "rule1 = ctrl.Rule(permintaan['rendah']&stok['tinggi'],penjualan['turun'])\n",
    "rule2 = ctrl.Rule(permintaan['rendah']&stok['sedang'],penjualan['turun'])\n",
    "rule3 = ctrl.Rule(permintaan['rendah']&stok['turun'],penjualan['turun'])\n",
    "\n",
    "rule4 = ctrl.Rule(permintaan['sedang']&stok['tinggi'],penjualan['turun'])\n",
    "rule5 = ctrl.Rule(permintaan['sedang']&stok['sedang'],penjualan['sedang'])\n",
    "rule6 = ctrl.Rule(permintaan['sedang']&stok['turun'],penjualan['naik'])\n",
    "\n",
    "rule7 = ctrl.Rule(permintaan['tinggi']&stok['tinggi'],penjualan['naik'])\n",
    "rule8 = ctrl.Rule(permintaan['tinggi']&stok['sedang'],penjualan['naik'])\n",
    "rule9 = ctrl.Rule(permintaan['tinggi']&stok['turun'],penjualan['naik'])"
   ]
  },
  {
   "cell_type": "markdown",
   "metadata": {},
   "source": [
    "RULE EVALUATION\n",
    "==="
   ]
  },
  {
   "cell_type": "code",
   "execution_count": 69,
   "metadata": {},
   "outputs": [],
   "source": [
    "penjualan_ctrl = ctrl.ControlSystem([rule1, rule2, rule3, rule4, rule5, rule6, rule7, rule8, rule9])"
   ]
  },
  {
   "cell_type": "markdown",
   "metadata": {},
   "source": [
    "DEFUZZIFIKASI\n",
    "==="
   ]
  },
  {
   "cell_type": "code",
   "execution_count": 70,
   "metadata": {},
   "outputs": [],
   "source": [
    "jual = ctrl.ControlSystemSimulation(penjualan_ctrl)"
   ]
  },
  {
   "cell_type": "markdown",
   "metadata": {},
   "source": [
    "Memasukan Input"
   ]
  },
  {
   "cell_type": "code",
   "execution_count": 71,
   "metadata": {},
   "outputs": [],
   "source": [
    "jual.input['permintaan'] = 34000 \n",
    "jual.input['stok'] = 600000"
   ]
  },
  {
   "cell_type": "markdown",
   "metadata": {},
   "source": [
    "Melakukan perhitungan defuzzifikasi"
   ]
  },
  {
   "cell_type": "code",
   "execution_count": 72,
   "metadata": {},
   "outputs": [],
   "source": [
    "jual.compute()"
   ]
  },
  {
   "cell_type": "markdown",
   "metadata": {},
   "source": [
    "Mencetak hasil output defuzzifikasi"
   ]
  },
  {
   "cell_type": "code",
   "execution_count": 73,
   "metadata": {},
   "outputs": [
    {
     "name": "stdout",
     "output_type": "stream",
     "text": [
      "142192.02727706148\n"
     ]
    }
   ],
   "source": [
    "print(jual.output['penjualan'])"
   ]
  },
  {
   "cell_type": "markdown",
   "metadata": {},
   "source": [
    "<div class=\"alert alert-success\">\n",
    "  <p>Plotting fungsi keanggotaan permintaan setelah dimasukkan input nilai pada permintaan</p>\n",
    "</div>"
   ]
  },
  {
   "cell_type": "code",
   "execution_count": 74,
   "metadata": {
    "scrolled": true
   },
   "outputs": [
    {
     "data": {
      "image/png": "[encoded data removed]",
      "text/plain": [
       "<Figure size 432x288 with 1 Axes>"
      ]
     },
     "metadata": {
      "needs_background": "light"
     },
     "output_type": "display_data"
    }
   ],
   "source": [
    "permintaan.view(sim=jual)"
   ]
  },
  {
   "cell_type": "markdown",
   "metadata": {},
   "source": [
    "<div class=\"alert alert-success\">\n",
    "  <p>Plotting fungsi keanggotaan Stok setelah dimasukkan input nilai pada Stok</p>\n",
    "</div>"
   ]
  },
  {
   "cell_type": "code",
   "execution_count": 75,
   "metadata": {
    "scrolled": true
   },
   "outputs": [
    {
     "data": {
      "image/png": "[encoded data removed]",
      "text/plain": [
       "<Figure size 432x288 with 1 Axes>"
      ]
     },
     "metadata": {
      "needs_background": "light"
     },
     "output_type": "display_data"
    }
   ],
   "source": [
    "stok.view(sim=jual)"
   ]
  },
  {
   "cell_type": "markdown",
   "metadata": {},
   "source": [
    "<div class=\"alert alert-success\">\n",
    "  <p>Plotting fungsi keanggotaan Penjualan setelah dilakukan perhitungan defuzzifikasi output nilai pada Penjualan\n",
    "</p>\n",
    "</div>"
   ]
  },
  {
   "cell_type": "code",
   "execution_count": 76,
   "metadata": {},
   "outputs": [
    {
     "data": {
      "image/png": "[encoded data removed]",
      "text/plain": [
       "<Figure size 432x288 with 1 Axes>"
      ]
     },
     "metadata": {
      "needs_background": "light"
     },
     "output_type": "display_data"
    }
   ],
   "source": [
    "penjualan.view(sim=jual)\n",
    "\n",
    "plt.show()"
   ]
  },
  {
   "cell_type": "markdown",
   "metadata": {},
   "source": [
    "PERHITUNGAN MANUAL\n",
    "==="
   ]
  },
  {
   "cell_type": "markdown",
   "metadata": {},
   "source": [
    "\\begin{equation}\n",
    "Permintaan = 34000 \\\\\n",
    "    Masukkan\\,nilai\\,Permintaan\\,ke\\,dalam\\,masing-masing\\,fungsi\\,keanggotaan\\,Permintaan\\\\\n",
    "  permintaan['rendah'] = \\mu Rendah(x)=\\begin{cases}\n",
    "    1, & \\text{$x\\leq1000$}.\\\\\n",
    "    (72475 - x)/(72475-1000) , & \\text{$1000 \\leq x \\leq 72475$}. \\checkmark \\\\\n",
    "    0, & \\text{$x\\geq 72475$}.\n",
    "  \\end{cases}\n",
    "  \\\\\n",
    "  permintaan['sedang'] = \\mu Sedang(x)=\\begin{cases}\n",
    "    0, & \\text{$x\\leq 1000$ atau $x\\geq363725$}.\\\\\n",
    "    (x - 1000)/(72475 - 1000) , & \\text{$1000 \\leq x \\leq 72475$}. \\checkmark\\\\\n",
    "    (363725 - x)/(363725 - 72475) , & \\text{$72475 \\leq x \\leq 363725$}.\\\\\n",
    "  \\end{cases}\n",
    "  \\\\\n",
    "    permintaan['tinggi'] = \\mu Tinggi(x)=\\begin{cases}\n",
    "    0, & \\text{$x\\leq 72475$}.\\checkmark \\\\\n",
    "    (x - 72475)/(363725 - 72475) , & \\text{$72475 \\leq x \\leq 363725$}.\\\\\n",
    "    1, & \\text{$x\\geq 363725$}.\n",
    "  \\end{cases}\n",
    "\\end{equation}"
   ]
  },
  {
   "cell_type": "markdown",
   "metadata": {},
   "source": [
    "\\begin{equation}\n",
    "    \\mu PermintaanRendah(34000) = (72475 - 34000) / (72475 - 1000) \\\\\n",
    "    \\mu PermintaanRendah(34000) = 34475/71475 \\\\ \n",
    "    \\mu PermintaanRendah(34000) = 0.53 \\\\\n",
    "    \\mu PermintaanSedang(34000) = (34000 - 1000) / (72475-1000) \\\\\n",
    "    \\mu PermintaanSedang(34000) = 34/72.475 \\\\\n",
    "    \\mu PermintaanSedang(34000) = 0.46 \\\\\n",
    "\\end{equation}"
   ]
  },
  {
   "cell_type": "markdown",
   "metadata": {},
   "source": [
    "\\begin{equation}\n",
    "Stok = 600000 \\\\\n",
    "Masukkan\\,nilai\\,Stok\\,ke\\,dalam\\,masing-masing\\,fungsi\\,keanggotaan\\,Stok\\\\\n",
    "  stok['rendah'] = \\mu stokRendah(x)=\\begin{cases}\n",
    "    1, & \\text{$x\\leq229000$}.\\\\\n",
    "    \\left.(545805 - x) \\,  \\right/(545805 - 229000) , & \\text{$229000 \\leq x \\leq 545805$}.\\\\\n",
    "    0, & \\text{$x\\geq 545805$}.\\checkmark\n",
    "  \\end{cases}\n",
    "  \\\\\n",
    "    stok['sedang'] = \\mu stokSedang(x)=\\begin{cases}\n",
    "    0, & \\text{$x\\leq 229000$ atau $x\\geq899755$}.\\\\\n",
    "    \\left.(x - 229000)\\, \\right/(545805 - 229000) , & \\text{$229000 \\leq x \\leq 545805$}.\\\\\n",
    "    \\left.(899755 - x)\\, \\right/(899755 - 545805) , & \\text{$545805 \\leq x \\leq 899755$}.\\checkmark\\\\\n",
    "  \\end{cases}\n",
    "  \\\\\n",
    "  stok['tinggi'] = \\mu stokTinggi(x)=\\begin{cases}\n",
    "    0, & \\text{$x \\leq 545805$}.\\\\\n",
    "    \\left.(x - 545805) \\,  \\right/(899755 - 545805) , & \\text{$545805 \\leq x \\leq 899755$}.\\checkmark\\\\\n",
    "    1, & \\text{$x\\geq 899755$}.\n",
    "  \\end{cases}\n",
    "\\end{equation}\n"
   ]
  },
  {
   "cell_type": "markdown",
   "metadata": {},
   "source": [
    "\\begin{equation}\n",
    "    \\mu StokSedang(600000) = (899755 - 600000) / (899755 - 545805) \\\\\n",
    "    \\mu StokSedang(600000) = 299755/353950 \\\\ \n",
    "    \\mu StokSedang(600000) = 0.84 \\\\\n",
    "    \\mu StokTinggi(600000) = (600000 - 545805) / (899755-545805) \\\\\n",
    "    \\mu StokTinggi(600000) = 54195/353950 \\\\\n",
    "    \\mu StokTinggi(600000) = 0.15 \\\\\n",
    "\\end{equation}\n",
    "\n",
    "\n",
    "======================================================================================================================="
   ]
  },
  {
   "cell_type": "markdown",
   "metadata": {},
   "source": [
    "Lalu kita cari nilai z untuk setiap aturan dengan menggunakan fungsi MIN karena menggunakan rule AND\n",
    "1. IF Permintaan RENDAH dan Stok TINGGI THEN Penjualan TURUN\n",
    "\n",
    "$$ \\\\ \\alpha(predikat_1) = \\mu PermintaanRendah \\cap \\mu StokTinggi $$\n",
    "$$\\alpha(predikat_1)   = min (\\mu PermintaanRendah[34000], \\mu StokTinggi[600000]) $$\n",
    "$$ \\alpha(predikat_1) = min (0.53; 0.15) $$\n",
    "$$ \\alpha(predikat_1) = 0.15 $$\n",
    "\n",
    "Lalu lihat himpunan Penjualan Turun\n",
    "\n",
    "\\begin{equation}\n",
    "  penjualan['Rendah'] = \\mu penjualanRendah(x)=\\begin{cases}\n",
    "    1, & \\text{$x\\leq5925$}.\\\\\n",
    "    \\left.(106625 - x) \\,  \\right/(106625 - 5925) , & \\text{$5925 \\leq x \\leq 106625$}.\\\\\n",
    "    0, & \\text{$x\\geq 106625$}.\n",
    "  \\end{cases}\n",
    "\\end{equation}\n",
    "\n",
    "Terdapat 1 nilai keanggotaan yang akan kita masukkan nilainya\n",
    "$$\n",
    "(106625-x) / (106625-5925) = 0.15 \\\\\n",
    "(106625-x) = 15105 \\\\ \n",
    "-x = -91520\\\\\n",
    "x = 91520 \\\\\n",
    "$$\n",
    "\n",
    "Maka nilai Z$_1$ = 91520"
   ]
  },
  {
   "cell_type": "markdown",
   "metadata": {},
   "source": [
    "-------------------------------------------------------------------------------------------------------\n",
    "\n",
    "2. IF Permintaan RENDAH dan Stok SEDANG THEN Penjualan TURUN\n",
    "\n",
    "$$ \\\\ \\alpha(predikat_2) = \\mu PermintaanRendah \\cap \\mu StokSedang $$\n",
    "$$\\alpha(predikat_2)   = min (\\mu PermintaanRendah[34000], \\mu StokSedang[600000]) $$\n",
    "$$ \\alpha(predikat_2) = min (0.53; 0.84) $$\n",
    "$$ \\alpha(predikat_2) = 0.53 $$\n",
    "\n",
    "Lalu lihat himpunan Penjualan Turun\n",
    "\n",
    "\\begin{equation}\n",
    "  penjualan['Rendah'] = \\mu penjualanRendah(x)=\\begin{cases}\n",
    "    1, & \\text{$x\\leq5925$}.\\\\\n",
    "    \\left.(106625 - x) \\,  \\right/(106625 - 5925) , & \\text{$5925 \\leq x \\leq 106625$}.\\\\\n",
    "    0, & \\text{$x\\geq 106625$}.\n",
    "  \\end{cases}\n",
    "\\end{equation}\n",
    "\n",
    "Terdapat 1 nilai keanggotaan yang akan kita masukkan nilainya\n",
    "$$\n",
    "(106625-x) / (106625-5925) = 0.53 \\\\\n",
    "(106625-x) = 53371 \\\\ \n",
    "-x = -53254‬\\\\\n",
    "x = 53254 \\\\\n",
    "$$\n",
    "\n",
    "Maka nilai Z$_2$ = 53254"
   ]
  },
  {
   "cell_type": "markdown",
   "metadata": {},
   "source": [
    "----------------------------------------------------------------------------------------------------\n",
    "\n",
    "3. IF Permintaan RENDAH dan Stok RENDAH THEN Penjualan TURUN\n",
    "\n",
    "$$ \\\\ \\alpha(predikat_3) = \\mu PermintaanRendah \\cap \\mu StokRendah $$\n",
    "$$\\alpha(predikat_3)   = min (\\mu PermintaanRendah[34000], \\mu StokRendah[600000]) $$\n",
    "$$ \\alpha(predikat_3) = min (0.53; 0) $$\n",
    "$$ \\alpha(predikat_3) = 0 $$\n",
    "\n",
    "\\begin{equation}\n",
    "  penjualan['rendah'] = \\mu penjualanRendah(x)=\\begin{cases}\n",
    "    1, & \\text{$x\\leq5925$}.\\\\\n",
    "    \\left.(106625 - x) \\,  \\right/(106625 - 5925) , & \\text{$5925 \\leq x \\leq 106625$}.\\\\\n",
    "    0, & \\text{$x\\geq 106625$}.\n",
    "  \\end{cases}\n",
    "  \\end{equation}\n",
    "  \n",
    "  Maka nilai Z$_3$ = 0\n",
    "  \n",
    "  \n",
    "  ----"
   ]
  },
  {
   "cell_type": "markdown",
   "metadata": {},
   "source": [
    "4. IF Permintaan SEDANG dan Stok TINGGI THEN Penjualan TURUN\n",
    "\n",
    "-------------------------------------------------------------------------------------------------------\n",
    "$$ \\\\ \\alpha(predikat_4) = \\mu PermintaanSedang \\cap \\mu StokTinggi $$\n",
    "$$\\alpha(predikat_4)   = min (\\mu PermintaanSedang[34000], \\mu StokTinggi[600000]) $$\n",
    "$$ \\alpha(predikat_4) = min (0.46; 0.15) $$\n",
    "$$ \\alpha(predikat_4) = 0.15 $$\n",
    "\n",
    "Lalu lihat himpunan Penjualan Turun\n",
    "\n",
    "\\begin{equation}\n",
    "  penjualan['Rendah'] = \\mu penjualanRendah(x)=\\begin{cases}\n",
    "    1, & \\text{$x\\leq5925$}.\\\\\n",
    "    \\left.(106625 - x) \\,  \\right/(106625 - 5925) , & \\text{$5925 \\leq x \\leq 106625$}.\\\\\n",
    "    0, & \\text{$x\\geq 106625$}.\n",
    "  \\end{cases}\n",
    "\\end{equation}\n",
    "\n",
    "Terdapat 1 nilai keanggotaan yang akan kita masukkan nilainya\n",
    "$$\n",
    "(106625-x) / (106625-5925) = 0.15 \\\\\n",
    "(106625-x) = 15105‬ \\\\\n",
    "-x = -91520\\\\\n",
    "x = 91520 \\\\\n",
    "$$\n",
    "\n",
    "Maka nilai Z$_4$ = 91520"
   ]
  },
  {
   "cell_type": "markdown",
   "metadata": {},
   "source": [
    "5. IF Permintaan SEDANG dan Stok SEDANG THEN Penjualan SEDANG\n",
    "-------------------------------------------------------------------------------------------------------\n",
    "$$ \\\\ \\alpha(predikat_5) = \\mu PermintaanSedang \\cap \\mu StokSedang $$\n",
    "$$\\alpha(predikat_5)   = min (\\mu PermintaanSedang[34000], \\mu StokSedang[600000]) $$\n",
    "$$ \\alpha(predikat_5) = min (0.46; 0.84) $$\n",
    "$$ \\alpha(predikat_5) = 0.46 $$\n",
    "\n",
    "Lalu lihat himpunan Penjualan Sedang\n",
    "\n",
    "\\begin{equation}\n",
    "    penjualan['sedang'] = \\mu penjualanSedang(x)=\\begin{cases}\n",
    "    0, & \\text{$x\\leq 5925$ atau $x\\geq342865$}.\\\\\n",
    "    \\left.(x - 5925)\\, \\right/(106625 - 5925) , & \\text{$5925 \\leq x \\leq 106625$}.\\\\\n",
    "    \\left.(342865 - x)\\, \\right/(342865 - 106625) , & \\text{$106625 \\leq x \\leq 342865$}.\\\\\n",
    "  \\end{cases}\n",
    "\\end{equation}\n",
    "\n",
    "Terdapat 2 nilai keanggotaan yang akan kita masukkan nilainya\n",
    "$$\n",
    "(x - 5925)/(106625 - 5925) = 0.46 \\\\\n",
    "(x - 5925) = 46322‬‬ \\\\ \n",
    "x = 522477‬ \\\\\n",
    "$$\n",
    "\n",
    "$$\n",
    "(342865 - x)/(342865 - 106625) = 0.46 \\\\\n",
    "(342865 - x) = 125107‬ \\\\ \n",
    "-x2 = 217658 \\\\\n",
    "x2 = 217658 \\\\\n",
    "$$\n",
    "\n",
    "Maka nilai Z$_5$ = 217658‬"
   ]
  },
  {
   "cell_type": "markdown",
   "metadata": {},
   "source": [
    "---\n",
    "6. IF Permintaan SEDANG dan Stok RENDAH THEN Penjualan NAIK\n",
    "\n",
    "$$ \\\\ \\alpha(predikat_6) = \\mu PermintaanSedang \\cap \\mu StokRendah $$\n",
    "$$\\alpha(predikat_6)   = min (\\mu PermintaanSedang[34000], \\mu StokRendah[600000]) $$\n",
    "$$ \\alpha(predikat_6) = min (0.46; 0) $$\n",
    "$$ \\alpha(predikat_6) = 0 $$\n",
    "\n",
    "Lalu lihat himpunan Penjualan NAIK\n",
    "\n",
    "\\begin{equation}\n",
    "Penjualan['tinggi'] = \\mu penjualanTinggi(x)=\\begin{cases}\n",
    "    0, & \\text{$x \\leq 106625$}.\\\\\n",
    "    \\left.(x - 106625) \\,  \\right/(342685 - 106625) , & \\text{$106625 \\leq x \\leq 342685$}.\\\\\n",
    "    1, & \\text{$x\\geq 342685$}.\n",
    "  \\end{cases}\n",
    "\\end{equation}\n",
    "\n",
    "Maka nilai Z$_6$ = 0\n"
   ]
  },
  {
   "cell_type": "markdown",
   "metadata": {},
   "source": [
    "-------\n",
    "7. IF Permintaan TINGGI dan Stok TINGGI THEN Penjualan NAIK\n",
    "\n",
    "$$ \\\\ \\alpha(predikat_7) = \\mu PermintaanTinggi \\cap \\mu StokTinggi $$\n",
    "$$\\alpha(predikat_7)   = min (\\mu PermintaanTinggi[34000], \\mu StokTinggi[600000]) $$\n",
    "$$ \\alpha(predikat_7) = min (0; 0.15) $$\n",
    "$$ \\alpha(predikat_7) = 0 $$\n",
    "\n",
    "Lalu lihat himpunan Penjualan NAIK\n",
    "\n",
    "\\begin{equation}\n",
    "Penjualan['tinggi'] = \\mu penjualanTinggi(x)=\\begin{cases}\n",
    "    0, & \\text{$x \\leq 106625$}.\\\\\n",
    "    \\left.(x - 106625) \\,  \\right/(342685 - 106625) , & \\text{$106625 \\leq x \\leq 342685$}.\\\\\n",
    "    1, & \\text{$x\\geq 342685$}.\n",
    "  \\end{cases}\n",
    "\\end{equation}\n",
    "\n",
    "Maka nilai Z$_7$ = 0"
   ]
  },
  {
   "cell_type": "markdown",
   "metadata": {},
   "source": [
    "----\n",
    "8. IF Permintaan TINGGI dan Stok SEDANG THEN Penjualan NAIK\n",
    "\n",
    "$$ \\\\ \\alpha(predikat_8) = \\mu PermintaanTinggi \\cap \\mu StokSedang $$\n",
    "$$\\alpha(predikat_8)   = min (\\mu PermintaanTinggi[34000], \\mu StokSedang[600000]) $$\n",
    "$$ \\alpha(predikat_8) = min (0; 0.84) $$\n",
    "$$ \\alpha(predikat_8) = 0 $$\n",
    "\n",
    "Lalu lihat himpunan Penjualan NAIK\n",
    "\n",
    "\\begin{equation}\n",
    "Penjualan['tinggi'] = \\mu penjualanTinggi(x)=\\begin{cases}\n",
    "    0, & \\text{$x \\leq 106625$}.\\\\\n",
    "    \\left.(x - 106625) \\,  \\right/(342685 - 106625) , & \\text{$106625 \\leq x \\leq 342685$}.\\\\\n",
    "    1, & \\text{$x\\geq 342685$}.\n",
    "  \\end{cases}\n",
    "\\end{equation}\n",
    "\n",
    "Maka nilai Z$_8$ = 0"
   ]
  },
  {
   "cell_type": "markdown",
   "metadata": {},
   "source": [
    "----\n",
    "9. IF Permintaan TINGGI dan Stok RENDAH THEN Penjualan NAIK\n",
    "\n",
    "$$ \\\\ \\alpha(predikat_9) = \\mu PermintaanTinggi \\cap \\mu StokSedang $$\n",
    "$$\\alpha(predikat_9)   = min (\\mu PermintaanTinggi[34000], \\mu StokSedang[600000]) $$\n",
    "$$ \\alpha(predikat_9) = min (0; 0) $$\n",
    "$$ \\alpha(predikat_9) = 0 $$\n",
    "\n",
    "Lalu lihat himpunan Penjualan NAIK\n",
    "\n",
    "\\begin{equation}\n",
    "Penjualan['tinggi'] = \\mu penjualanTinggi(x)=\\begin{cases}\n",
    "    0, & \\text{$x \\leq 106625$}.\\\\\n",
    "    \\left.(x - 106625) \\,  \\right/(342685 - 106625) , & \\text{$106625 \\leq x \\leq 342685$}.\\\\\n",
    "    1, & \\text{$x\\geq 342685$}.\n",
    "  \\end{cases}\n",
    "\\end{equation}\n",
    "\n",
    "Maka nilai Z$_9$ = 0"
   ]
  },
  {
   "cell_type": "markdown",
   "metadata": {},
   "source": [
    "==================================================================================================================<br>\n",
    "Dari sini kita dapat mencari nilai Z yaitu:\n",
    "\n",
    "\n",
    "\n"
   ]
  },
  {
   "cell_type": "markdown",
   "metadata": {},
   "source": [
    "Z =$$ \\frac{\\alpha predikat_1 \\times Z_1 +\n",
    "\\alpha predikat_2 \\times Z_2 +\n",
    "\\alpha predikat_3 \\times Z_3 +\n",
    "\\alpha predikat_4 \\times Z_4 +\n",
    "\\alpha predikat_5 \\times Z_5 +\n",
    "\\alpha predikat_6 \\times Z_6 +\n",
    "\\alpha predikat_7 \\times Z_7 +\n",
    "\\alpha predikat_8 \\times Z_8 +\n",
    "\\alpha predikat_9 \\times Z_9 }\n",
    "{\\alpha predikat_1 + \\alpha predikat_2 +\n",
    "\\alpha predikat_3 + \\alpha predikat_4 +\n",
    "\\alpha predikat_5 + \\alpha predikat_6 +\n",
    "\\alpha predikat_7 + \\alpha predikat_8 +\n",
    "\\alpha predikat_9}$$"
   ]
  },
  {
   "attachments": {},
   "cell_type": "markdown",
   "metadata": {},
   "source": [
    " $$Z = \\frac{0.15 \\times 91520 + 0.53 \\times 53254 + 0 + 0.15 \\times 91520 + 0.46 * 217658}{0.15 + 0.53 + 0 + 0.15 + 0.46 + 0 + 0 + 0 +0} $$\n",
    " \n",
    " $$ Z = \\frac{155803,3\n",
    "}{1,29} $$\n",
    " $$ Z = 120777,8 $$"
   ]
  },
  {
   "cell_type": "markdown",
   "metadata": {},
   "source": [
    "Hasil output yang dikeluarkan menggunakan code python sebesar 142192,0 sedangkan perhitungan manual sebesar 120777,8.\n",
    "Terdapat perbedaan sebesar 6,24%"
   ]
  }
 ],
 "metadata": {
  "kernelspec": {
   "display_name": "Python 3",
   "language": "python",
   "name": "python3"
  },
  "language_info": {
   "codemirror_mode": {
    "name": "ipython",
    "version": 3
   },
   "file_extension": ".py",
   "mimetype": "text/x-python",
   "name": "python",
   "nbconvert_exporter": "python",
   "pygments_lexer": "ipython3",
   "version": "3.6.9"
  }
 },
 "nbformat": 4,
 "nbformat_minor": 2
}
